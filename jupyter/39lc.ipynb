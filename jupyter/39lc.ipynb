{
 "cells": [
  {
   "cell_type": "markdown",
   "id": "eabd38b3",
   "metadata": {},
   "source": [
    "Backtrack注意点：\n",
    "1. break和return一个用于截断垂直branch，一个用来截断后面所有branch结果\n",
    "2. backtrack中的for loop是递归树中的水平选择，backtrack recursion是垂直选择\n",
    "3. 注意实参和形参，不要混用了"
   ]
  },
  {
   "cell_type": "code",
   "execution_count": null,
   "id": "db2280b5",
   "metadata": {},
   "outputs": [],
   "source": [
    "\n",
    "class Solution {\n",
    "    public List<List<Integer>> combinationSum(int[] nums, int target) {\n",
    "        List<List<Integer>> res = new ArrayList<>();\n",
    "        List<Integer> path = new ArrayList<>();\n",
    "        Arrays.sort(nums);\n",
    "        backtrack(nums, 0, res, path, target);\n",
    "        return res;\n",
    "    }\n",
    "    private void backtrack(int[] nums, int idx, List<List<Integer>> res, List<Integer> path, int rest){\n",
    "        if(rest == 0){\n",
    "            res.add(new ArrayList<>(path));\n",
    "            return ;\n",
    "        }\n",
    "        for(int i = idx; i<nums.length; i++){\n",
    "            if(nums[i]>rest) break;\n",
    "            path.add(nums[i]);\n",
    "            backtrack(nums, i, res, path, rest-nums[i]);\n",
    "            path.remove(path.size()-1);\n",
    "        }\n",
    "    }\n",
    "}"
   ]
  }
 ],
 "metadata": {
  "kernelspec": {
   "display_name": "java (JJava/j!)",
   "language": "java",
   "name": "jbang-jjava"
  },
  "language_info": {
   "name": "java"
  }
 },
 "nbformat": 4,
 "nbformat_minor": 5
}
