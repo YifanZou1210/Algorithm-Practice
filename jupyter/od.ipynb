{
 "cells": [
  {
   "cell_type": "code",
   "execution_count": null,
   "id": "3d1e6779",
   "metadata": {},
   "outputs": [
    {
     "name": "stdout",
     "output_type": "stream",
     "text": [
      "2\n",
      "0 4\n"
     ]
    }
   ],
   "source": [
    "# [流浪地球](https://blog.csdn.net/banxia_frontend/article/details/151763512)\n",
    "from collections import deque\n",
    "\n",
    "N, E = map(int, input().split())\n",
    "\n",
    "manual = [] # 手动启动发动机列表\n",
    "for _ in range(E):\n",
    "    T, P = map(int, input().split())\n",
    "    manual.append((T, P))\n",
    "\n",
    "# 1. 按时间升序排序\n",
    "manual.sort(key=lambda x: x[0])\n",
    "\n",
    "# 2. 初始化每个发动机时间数组\n",
    "time = [float('inf')] * N\n",
    "\n",
    "# 3. 初始化队列\n",
    "q = deque()\n",
    "for t, p in manual:\n",
    "    if time[p] > t:  # 如果手动启动的发动机启动时间大于\n",
    "        time[p] = t\n",
    "        q.append((p, t))\n",
    "\n",
    "# 4. BFS 扩散\n",
    "while q:\n",
    "    cur, t = q.popleft()\n",
    "    for nxt in [(cur - 1 + N) % N, (cur + 1) % N]:\n",
    "        if time[nxt] > t + 1:\n",
    "            time[nxt] = t + 1\n",
    "            q.append((nxt, t + 1))\n",
    "\n",
    "# 5. 找出最后被启动的发动机\n",
    "max_t = max(time)\n",
    "res = [i for i, v in enumerate(time) if v == max_t]\n",
    "\n",
    "print(len(res))\n",
    "print(\" \".join(map(str, res)))\n",
    "\n",
    "# 输入\n",
    "# 8 2\n",
    "# 0 2\n",
    "# 0 6"
   ]
  }
 ],
 "metadata": {
  "kernelspec": {
   "display_name": "Python 3",
   "language": "python",
   "name": "python3"
  },
  "language_info": {
   "codemirror_mode": {
    "name": "ipython",
    "version": 3
   },
   "file_extension": ".py",
   "mimetype": "text/x-python",
   "name": "python",
   "nbconvert_exporter": "python",
   "pygments_lexer": "ipython3",
   "version": "3.11.11"
  }
 },
 "nbformat": 4,
 "nbformat_minor": 5
}
